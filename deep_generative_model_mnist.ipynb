{
  "nbformat": 4,
  "nbformat_minor": 0,
  "metadata": {
    "kernelspec": {
      "display_name": "Python 3",
      "language": "python",
      "name": "python3"
    },
    "language_info": {
      "codemirror_mode": {
        "name": "ipython",
        "version": 3
      },
      "file_extension": ".py",
      "mimetype": "text/x-python",
      "name": "python",
      "nbconvert_exporter": "python",
      "pygments_lexer": "ipython3",
      "version": "3.7.6"
    },
    "colab": {
      "name": "deep_generative_model_mnist.ipynb",
      "provenance": [],
      "collapsed_sections": []
    }
  },
  "cells": [
    {
      "cell_type": "code",
      "metadata": {
        "code_folding": [
          0
        ],
        "id": "wEJXnNF8OfAU",
        "colab_type": "code",
        "colab": {}
      },
      "source": [
        "# Imports\n",
        "import sys\n",
        "import math\n",
        "import numpy as np\n",
        "import torch\n",
        "\n",
        "from sklearn.linear_model import LogisticRegression\n",
        "\n",
        "import torch.nn as nn\n",
        "import torch.nn.functional as F\n",
        "from torch.nn import init\n",
        "\n",
        "from torch.autograd import Variable\n",
        "from torch.utils.data.sampler import SubsetRandomSampler\n",
        "import torchvision.transforms as transforms\n",
        "\n",
        "from torch.utils.data import Dataset\n",
        "from torchvision.datasets import MNIST\n",
        "\n",
        "from itertools import repeat, cycle\n",
        "from functools import reduce\n",
        "from operator import __or__\n",
        "\n",
        "#cuda = torch.cuda.is_available()\n",
        "import matplotlib.pyplot as plt\n",
        "%matplotlib inline\n",
        "#from urllib import request\n"
      ],
      "execution_count": 0,
      "outputs": []
    },
    {
      "cell_type": "code",
      "metadata": {
        "id": "pY-jH9ICOjqO",
        "colab_type": "code",
        "colab": {}
      },
      "source": [
        "def log_standard_gaussian(x):\n",
        "    \"\"\"\n",
        "    Evaluates the log pdf of a standard normal distribution at x.\n",
        "\n",
        "    :param x: point to evaluate\n",
        "    :return: log N(x|0,I)\n",
        "    \"\"\"\n",
        "    return torch.sum(-0.5 * math.log(2 * math.pi) - x ** 2 / 2, dim=-1)\n",
        "\n",
        "\n",
        "def log_gaussian(x, mu, log_var):\n",
        "    \"\"\"\n",
        "    Returns the log pdf of a normal distribution parametrised\n",
        "    by mu and log_var evaluated at x.\n",
        "\n",
        "    :param x: point to evaluate\n",
        "    :param mu: mean of distribution\n",
        "    :param log_var: log variance of distribution\n",
        "    :return: log N(x|µ,σ)\n",
        "    \"\"\"\n",
        "    log_pdf = - 0.5 * math.log(2 * math.pi) - log_var / 2 - (x - mu)**2 / (2 * torch.exp(log_var))\n",
        "    return torch.sum(log_pdf, dim=-1)\n",
        "\n",
        "\n",
        "def log_standard_categorical(p):\n",
        "    \"\"\"\n",
        "    Calculates the cross entropy between a (one-hot) categorical vector\n",
        "    and a standard (uniform) categorical distribution.\n",
        "\n",
        "    :param p: one-hot categorical distribution\n",
        "    :return: H(p, u)\n",
        "    \"\"\"\n",
        "    # Uniform prior over y\n",
        "    prior = F.softmax(torch.ones_like(p), dim=1)\n",
        "    prior.requires_grad = False\n",
        "\n",
        "    cross_entropy = -torch.sum(p * torch.log(prior + 1e-8), dim=1)\n",
        "\n",
        "    return cross_entropy\n",
        "\n",
        "def enumerate_discrete(x, y_dim):\n",
        "    \"\"\"\n",
        "    Generates a `torch.Tensor` of size batch_size x n_labels of\n",
        "    the given label.\n",
        "    :param x: tensor with batch size to mimic\n",
        "    :param y_dim: number of total labels\n",
        "    :return variable\n",
        "    \"\"\"\n",
        "    def batch(batch_size, label):\n",
        "        labels = (torch.ones(batch_size, 1) * label).type(torch.LongTensor)\n",
        "        y = torch.zeros((batch_size, y_dim))\n",
        "        y.scatter_(1, labels, 1)\n",
        "        return y.type(torch.LongTensor)\n",
        "\n",
        "    batch_size = x.size(0)\n",
        "    generated = torch.cat([batch(batch_size, i) for i in range(y_dim)])\n",
        "\n",
        "    return Variable(generated.float())\n",
        "\n",
        "\n",
        "def onehot(k):\n",
        "    \"\"\"\n",
        "    Converts a number to its one-hot or 1-of-k representation\n",
        "    vector.\n",
        "    :param k: (int) length of vector\n",
        "    :return: onehot function\n",
        "    \"\"\"\n",
        "    def encode(label):\n",
        "        y = torch.zeros(k)\n",
        "        if label < k:\n",
        "            y[label] = 1\n",
        "        return y\n",
        "    return encode\n",
        "\n",
        "\n",
        "def log_sum_exp(tensor, dim=-1, sum_op=torch.sum):\n",
        "    \"\"\"\n",
        "    Uses the LogSumExp (LSE) as an approximation for the sum in a log-domain.\n",
        "    :param tensor: Tensor to compute LSE over\n",
        "    :param dim: dimension to perform operation over\n",
        "    :param sum_op: reductive operation to be applied, e.g. torch.sum or torch.mean\n",
        "    :return: LSE\n",
        "    \"\"\"\n",
        "    max, _ = torch.max(tensor, dim=dim, keepdim=True)\n",
        "    return torch.log(sum_op(torch.exp(tensor - max), dim=dim, keepdim=True) + 1e-8) + max\n",
        "\n",
        "def binary_cross_entropy(r, x):\n",
        "    return -torch.sum(x * torch.log(r + 1e-8) + (1 - x) * torch.log(1 - r + 1e-8), dim=-1)"
      ],
      "execution_count": 0,
      "outputs": []
    },
    {
      "cell_type": "code",
      "metadata": {
        "id": "hxSLep22i8Ex",
        "colab_type": "code",
        "colab": {}
      },
      "source": [
        "class Stochastic(nn.Module):\n",
        "    \"\"\"\n",
        "    Base stochastic layer that uses the\n",
        "    reparametrization trick [Kingma 2013]\n",
        "    to draw a sample from a distribution\n",
        "    parametrised by mu and log_var.\n",
        "    \"\"\"\n",
        "    def reparametrize(self, mu, log_var):\n",
        "        epsilon = Variable(torch.randn(mu.size()), requires_grad=False)\n",
        "\n",
        "        if mu.is_cuda:\n",
        "            epsilon = epsilon.cuda()\n",
        "        \n",
        "        # log_std = 0.5 * log_var\n",
        "        # std = exp(log_std)\n",
        "        std = log_var.mul(0.5).exp_()\n",
        "\n",
        "        # z = std * epsilon + mu\n",
        "        z = mu.addcmul(std, epsilon)\n",
        "        return z\n",
        "\n",
        "class GaussianSample(Stochastic):\n",
        "    \"\"\"\n",
        "    Layer that represents a sample from a\n",
        "    Gaussian distribution.\n",
        "    \"\"\"\n",
        "    def __init__(self, in_features, out_features):\n",
        "        super(GaussianSample, self).__init__()\n",
        "        self.in_features = in_features\n",
        "        self.out_features = out_features\n",
        "\n",
        "        self.mu = nn.Linear(in_features, out_features)\n",
        "        self.log_var = nn.Linear(in_features, out_features)\n",
        "\n",
        "    def forward(self, x):\n",
        "        mu = self.mu(x)\n",
        "        log_var = F.softplus(self.log_var(x))\n",
        "\n",
        "        return self.reparametrize(mu, log_var), mu, log_var\n",
        "\n",
        "class GaussianMerge(GaussianSample):\n",
        "    \"\"\"\n",
        "    Precision weighted merging of two Gaussian\n",
        "    distributions.\n",
        "    Merges information from z into the given\n",
        "    mean and log variance and produces\n",
        "    a sample from this new distribution.\n",
        "    \"\"\"\n",
        "    def __init__(self, in_features, out_features):\n",
        "        super(GaussianMerge, self).__init__(in_features, out_features)\n",
        "\n",
        "    def forward(self, z, mu1, log_var1):\n",
        "        # Calculate precision of each distribution\n",
        "        # (inverse variance)\n",
        "        mu2 = self.mu(z)\n",
        "        log_var2 = F.softplus(self.log_var(z))\n",
        "        precision1, precision2 = (1/torch.exp(log_var1), 1/torch.exp(log_var2))\n",
        "\n",
        "        # Merge distributions into a single new\n",
        "        # distribution\n",
        "        mu = ((mu1 * precision1) + (mu2 * precision2)) / (precision1 + precision2)\n",
        "\n",
        "        var = 1 / (precision1 + precision2)\n",
        "        log_var = torch.log(var + 1e-8)\n",
        "\n",
        "        return self.reparametrize(mu, log_var), mu, log_var\n",
        "\n",
        "class Encoder(nn.Module):\n",
        "    def __init__(self, dims, sample_layer=GaussianSample):\n",
        "        \"\"\"\n",
        "        Inference network\n",
        "\n",
        "        Attempts to infer the probability distribution\n",
        "        p(z|x) from the data by fitting a variational\n",
        "        distribution q_φ(z|x). Returns the two parameters\n",
        "        of the distribution (µ, log σ²).\n",
        "\n",
        "        :param dims: dimensions of the networks\n",
        "           given by the number of neurons on the form\n",
        "           [input_dim, [hidden_dims], latent_dim].\n",
        "        \"\"\"\n",
        "        super(Encoder, self).__init__()\n",
        "\n",
        "        [x_dim, h_dim, z_dim] = dims\n",
        "        neurons = [x_dim, *h_dim]\n",
        "        linear_layers = [nn.Linear(neurons[i-1], neurons[i]) for i in range(1, len(neurons))]\n",
        "\n",
        "        self.hidden = nn.ModuleList(linear_layers)\n",
        "        self.sample = sample_layer(h_dim[-1], z_dim)\n",
        "\n",
        "    def forward(self, x):\n",
        "        for layer in self.hidden:\n",
        "            x = F.relu(layer(x))\n",
        "        return self.sample(x)\n",
        "\n",
        "\n",
        "class Decoder(nn.Module):\n",
        "    def __init__(self, dims):\n",
        "        \"\"\"\n",
        "        Generative network\n",
        "\n",
        "        Generates samples from the original distribution\n",
        "        p(x) by transforming a latent representation, e.g.\n",
        "        by finding p_θ(x|z).\n",
        "\n",
        "        :param dims: dimensions of the networks\n",
        "            given by the number of neurons on the form\n",
        "            [latent_dim, [hidden_dims], input_dim].\n",
        "        \"\"\"\n",
        "        super(Decoder, self).__init__()\n",
        "\n",
        "        [z_dim, h_dim, x_dim] = dims\n",
        "\n",
        "        neurons = [z_dim, *h_dim]\n",
        "        linear_layers = [nn.Linear(neurons[i-1], neurons[i]) for i in range(1, len(neurons))]\n",
        "        self.hidden = nn.ModuleList(linear_layers)\n",
        "\n",
        "        self.reconstruction = nn.Linear(h_dim[-1], x_dim)\n",
        "\n",
        "        self.output_activation = nn.Sigmoid()\n",
        "\n",
        "    def forward(self, x):\n",
        "        for layer in self.hidden:\n",
        "            x = F.relu(layer(x))\n",
        "        return self.output_activation(self.reconstruction(x))\n",
        "\n",
        "class Classifier(nn.Module):\n",
        "    # need to change this so conforms to other algorithms layer definition\n",
        "    def __init__(self, dims):\n",
        "        \"\"\"\n",
        "        Single hidden layer classifier\n",
        "        with softmax output.\n",
        "        \"\"\"\n",
        "        super(Classifier, self).__init__()\n",
        "        [x_dim, h_dim, y_dim] = dims\n",
        "        self.dense = nn.Linear(x_dim, h_dim)\n",
        "        self.logits = nn.Linear(h_dim, y_dim)\n",
        "\n",
        "    def forward(self, x):\n",
        "        x = F.relu(self.dense(x))\n",
        "        x = F.softmax(self.logits(x), dim=-1)\n",
        "        return x\n"
      ],
      "execution_count": 0,
      "outputs": []
    },
    {
      "cell_type": "code",
      "metadata": {
        "id": "vnfEhO7DqUsT",
        "colab_type": "code",
        "colab": {}
      },
      "source": [
        "# models\n",
        "class VariationalAutoencoder(nn.Module):\n",
        "    def __init__(self, dims):\n",
        "        \"\"\"\n",
        "        Variational Autoencoder [Kingma 2013] model\n",
        "        consisting of an encoder/decoder pair for which\n",
        "        a variational distribution is fitted to the\n",
        "        encoder. Also known as the M1 model in [Kingma 2014].\n",
        "\n",
        "        :param dims: x, z and hidden dimensions of the networks\n",
        "        \"\"\"\n",
        "        super(VariationalAutoencoder, self).__init__()\n",
        "\n",
        "        [x_dim, z_dim, h_dim] = dims\n",
        "        self.z_dim = z_dim\n",
        "        self.flow = None\n",
        "\n",
        "        self.encoder = Encoder([x_dim, h_dim, z_dim])\n",
        "        self.decoder = Decoder([z_dim, list(reversed(h_dim)), x_dim])\n",
        "        self.kl_divergence = 0\n",
        "\n",
        "        for m in self.modules():\n",
        "            if isinstance(m, nn.Linear):\n",
        "                init.xavier_normal(m.weight.data)\n",
        "                if m.bias is not None:\n",
        "                    m.bias.data.zero_()\n",
        "\n",
        "    def _kld(self, z, q_param, p_param=None):\n",
        "        \"\"\"\n",
        "        Computes the KL-divergence of\n",
        "        some element z.\n",
        "\n",
        "        KL(q||p) = -∫ q(z) log [ p(z) / q(z) ]\n",
        "                 = -E[log p(z) - log q(z)]\n",
        "\n",
        "        :param z: sample from q-distribuion\n",
        "        :param q_param: (mu, log_var) of the q-distribution\n",
        "        :param p_param: (mu, log_var) of the p-distribution\n",
        "        :return: KL(q||p)\n",
        "        \"\"\"\n",
        "        (mu, log_var) = q_param\n",
        "\n",
        "        if self.flow is not None:\n",
        "            f_z, log_det_z = self.flow(z)\n",
        "            qz = log_gaussian(z, mu, log_var) - sum(log_det_z)\n",
        "            z = f_z\n",
        "        else:\n",
        "            qz = log_gaussian(z, mu, log_var)\n",
        "\n",
        "        if p_param is None:\n",
        "            pz = log_standard_gaussian(z)\n",
        "        else:\n",
        "            (mu, log_var) = p_param\n",
        "            pz = log_gaussian(z, mu, log_var)\n",
        "\n",
        "        kl = qz - pz\n",
        "\n",
        "        return kl\n",
        "\n",
        "    def add_flow(self, flow):\n",
        "        self.flow = flow\n",
        "\n",
        "    def forward(self, x, y=None):\n",
        "        \"\"\"\n",
        "        Runs a data point through the model in order\n",
        "        to provide its reconstruction and q distribution\n",
        "        parameters.\n",
        "\n",
        "        :param x: input data\n",
        "        :return: reconstructed input\n",
        "        \"\"\"\n",
        "        z, z_mu, z_log_var = self.encoder(x)\n",
        "\n",
        "        self.kl_divergence = self._kld(z, (z_mu, z_log_var))\n",
        "\n",
        "        x_mu = self.decoder(z)\n",
        "\n",
        "        return x_mu\n",
        "\n",
        "    def sample(self, z):\n",
        "        \"\"\"\n",
        "        Given z ~ N(0, I) generates a sample from\n",
        "        the learned distribution based on p_θ(x|z).\n",
        "        :param z: (torch.autograd.Variable) Random normal variable\n",
        "        :return: (torch.autograd.Variable) generated sample\n",
        "        \"\"\"\n",
        "        return self.decoder(z)\n",
        "\n",
        "\n",
        "class DeepGenerativeModel(VariationalAutoencoder):\n",
        "    def __init__(self, dims):\n",
        "        \"\"\"\n",
        "        M2 code replication from the paper\n",
        "        'Semi-Supervised Learning with Deep Generative Models'\n",
        "        (Kingma 2014) in PyTorch.\n",
        "\n",
        "        The \"Generative semi-supervised model\" is a probabilistic\n",
        "        model that incorporates label information in both\n",
        "        inference and generation.\n",
        "\n",
        "        Initialise a new generative model\n",
        "        :param dims: dimensions of x, y, z and hidden layers.\n",
        "        \"\"\"\n",
        "        [x_dim, self.y_dim, z_dim, h_dim] = dims\n",
        "        super(DeepGenerativeModel, self).__init__([x_dim, z_dim, h_dim])\n",
        "\n",
        "        self.encoder = Encoder([x_dim + self.y_dim, h_dim, z_dim])\n",
        "        self.decoder = Decoder([z_dim + self.y_dim, list(reversed(h_dim)), x_dim])\n",
        "        self.classifier = Classifier([x_dim, h_dim[0], self.y_dim])\n",
        "\n",
        "        for m in self.modules():\n",
        "            if isinstance(m, nn.Linear):\n",
        "                init.xavier_normal(m.weight.data)\n",
        "                if m.bias is not None:\n",
        "                    m.bias.data.zero_()\n",
        "\n",
        "    def forward(self, x, y):\n",
        "        # Add label and data and generate latent variable\n",
        "        z, z_mu, z_log_var = self.encoder(torch.cat([x, y], dim=1))\n",
        "\n",
        "        self.kl_divergence = self._kld(z, (z_mu, z_log_var))\n",
        "\n",
        "        # Reconstruct data point from latent data and label\n",
        "        x_mu = self.decoder(torch.cat([z, y], dim=1))\n",
        "\n",
        "        return x_mu\n",
        "\n",
        "    def classify(self, x):\n",
        "        logits = self.classifier(x)\n",
        "        return logits\n",
        "\n",
        "    def sample(self, z, y):\n",
        "        \"\"\"\n",
        "        Samples from the Decoder to generate an x.\n",
        "        :param z: latent normal variable\n",
        "        :param y: label (one-hot encoded)\n",
        "        :return: x\n",
        "        \"\"\"\n",
        "        y = y.float()\n",
        "        x = self.decoder(torch.cat([z, y], dim=1))\n",
        "        return x"
      ],
      "execution_count": 0,
      "outputs": []
    },
    {
      "cell_type": "code",
      "metadata": {
        "scrolled": true,
        "id": "26PinGUROfAr",
        "colab_type": "code",
        "colab": {}
      },
      "source": [
        "def get_mnist(location, batch_size, labels_per_class):\n",
        "\n",
        "    n_labels = 10\n",
        "\n",
        "    flatten_bernoulli = lambda x: transforms.ToTensor()(x).view(-1).bernoulli()\n",
        "\n",
        "    mnist_train = MNIST(location, train=True, download=True,\n",
        "                        transform=flatten_bernoulli, target_transform=onehot(n_labels))\n",
        "    mnist_valid = MNIST(location, train=False, download=True,\n",
        "                        transform=flatten_bernoulli, target_transform=onehot(n_labels))\n",
        "\n",
        "    def get_sampler(labels, n=None):\n",
        "        # Only choose digits in n_labels\n",
        "        (indices,) = np.where(reduce(__or__, [labels == i for i in np.arange(n_labels)]))\n",
        "\n",
        "        # Ensure uniform distribution of labels\n",
        "        np.random.shuffle(indices)\n",
        "        # reorganize the data by labels and horizontally stack them so the data is like 0..0,1..1,2...2..so on\n",
        "        indices = np.hstack([list(filter(lambda idx: labels[idx] == i, indices))[:n] for i in range(n_labels)])\n",
        "        indices = torch.from_numpy(indices) # convert into a tensor\n",
        "        # Samples elements randomly from a given list of indices, without replacement.\n",
        "        sampler = SubsetRandomSampler(indices)\n",
        "        return sampler\n",
        "\n",
        "    # Dataloaders for MNIST\n",
        "    labelled = torch.utils.data.DataLoader(mnist_train, batch_size=batch_size, num_workers=2, \n",
        "                                           sampler=get_sampler(mnist_train.train_labels.numpy(), labels_per_class))\n",
        "    unlabelled = torch.utils.data.DataLoader(mnist_train, batch_size=batch_size, num_workers=2, \n",
        "                                             sampler=get_sampler(mnist_train.train_labels.numpy()))\n",
        "    validation = torch.utils.data.DataLoader(mnist_valid, batch_size=batch_size, num_workers=2, \n",
        "                                             sampler=get_sampler(mnist_valid.test_labels.numpy()))\n",
        "\n",
        "    return labelled, unlabelled, validation\n"
      ],
      "execution_count": 0,
      "outputs": []
    },
    {
      "cell_type": "code",
      "metadata": {
        "id": "6A7lNj4cRBKP",
        "colab_type": "code",
        "colab": {}
      },
      "source": [
        "class ImportanceWeightedSampler(object):\n",
        "    \"\"\"\n",
        "    Importance weighted sampler [Burda 2015] to\n",
        "    be used in conjunction with SVI.\n",
        "    \"\"\"\n",
        "    def __init__(self, mc=1, iw=1):\n",
        "        \"\"\"\n",
        "        Initialise a new sampler.\n",
        "        :param mc: number of Monte Carlo samples\n",
        "        :param iw: number of Importance Weighted samples\n",
        "        \"\"\"\n",
        "        self.mc = mc\n",
        "        self.iw = iw\n",
        "\n",
        "    def resample(self, x):\n",
        "        return x.repeat(self.mc * self.iw, 1)\n",
        "\n",
        "    def __call__(self, elbo):\n",
        "        elbo = elbo.view(self.mc, self.iw, -1)\n",
        "        elbo = torch.mean(log_sum_exp(elbo, dim=1, sum_op=torch.mean), dim=0)\n",
        "        return elbo.view(-1)\n",
        "\n",
        "class SVI(nn.Module):\n",
        "    \"\"\"\n",
        "    Stochastic variational inference (SVI).\n",
        "    \"\"\"\n",
        "    base_sampler = ImportanceWeightedSampler(mc=1, iw=1)\n",
        "    def __init__(self, model, likelihood=F.binary_cross_entropy, beta=repeat(1), sampler=base_sampler):\n",
        "        \"\"\"\n",
        "        Initialises a new SVI optimizer for semi-supervised learning.\n",
        "        :param model: semi-supervised model to evaluate\n",
        "        :param likelihood: p(x|y,z) for example BCE or MSE\n",
        "        :param sampler: sampler for x and y, e.g. for Monte Carlo\n",
        "        :param beta: warm-up/scaling of KL-term\n",
        "        \"\"\"\n",
        "        super(SVI, self).__init__()\n",
        "        self.model = model\n",
        "        self.likelihood = likelihood\n",
        "        self.sampler = sampler\n",
        "        self.beta = beta\n",
        "\n",
        "    def forward(self, x, y=None):\n",
        "        is_labelled = False if y is None else True\n",
        "\n",
        "        # Prepare for sampling\n",
        "        xs, ys = (x, y)\n",
        "\n",
        "        # Enumerate choices of label\n",
        "        if not is_labelled:\n",
        "            ys = enumerate_discrete(xs, self.model.y_dim)\n",
        "            xs = xs.repeat(self.model.y_dim, 1)\n",
        "\n",
        "        # Increase sampling dimension\n",
        "        xs = self.sampler.resample(xs)\n",
        "        ys = self.sampler.resample(ys)\n",
        "\n",
        "        reconstruction = self.model(xs, ys)\n",
        "\n",
        "        # p(x|y,z)\n",
        "        likelihood = -self.likelihood(reconstruction, xs)\n",
        "\n",
        "        # p(y)\n",
        "        prior = -log_standard_categorical(ys)\n",
        "\n",
        "        # Equivalent to -L(x, y)\n",
        "        elbo = likelihood + prior - next(self.beta) * self.model.kl_divergence\n",
        "        L = self.sampler(elbo)\n",
        "\n",
        "        if is_labelled:\n",
        "            return torch.mean(L)\n",
        "\n",
        "        logits = self.model.classify(x)\n",
        "\n",
        "        L = L.view_as(logits.t()).t()\n",
        "\n",
        "        # Calculate entropy H(q(y|x)) and sum over all labels\n",
        "        H = -torch.sum(torch.mul(logits, torch.log(logits + 1e-8)), dim=-1)\n",
        "        L = torch.sum(torch.mul(logits, L), dim=-1)\n",
        "\n",
        "        # Equivalent to -U(x)\n",
        "        U = L + H\n",
        "        return torch.mean(U)"
      ],
      "execution_count": 0,
      "outputs": []
    },
    {
      "cell_type": "markdown",
      "metadata": {
        "id": "hisvrr8y4JXc",
        "colab_type": "text"
      },
      "source": [
        "## Evaluate M2\n"
      ]
    },
    {
      "cell_type": "code",
      "metadata": {
        "id": "HEGjRVr1RDek",
        "colab_type": "code",
        "colab": {
          "base_uri": "https://localhost:8080/",
          "height": 478
        },
        "outputId": "121e1dca-eb70-46b4-9948-06e7cf86274d"
      },
      "source": [
        "y_dim = 10\n",
        "z_dim = 32\n",
        "h_dim = [256, 128]\n",
        "model = DeepGenerativeModel([784, y_dim, z_dim, h_dim])\n",
        "model"
      ],
      "execution_count": 43,
      "outputs": [
        {
          "output_type": "stream",
          "text": [
            "/usr/local/lib/python3.6/dist-packages/ipykernel_launcher.py:23: UserWarning: nn.init.xavier_normal is now deprecated in favor of nn.init.xavier_normal_.\n",
            "/usr/local/lib/python3.6/dist-packages/ipykernel_launcher.py:112: UserWarning: nn.init.xavier_normal is now deprecated in favor of nn.init.xavier_normal_.\n"
          ],
          "name": "stderr"
        },
        {
          "output_type": "execute_result",
          "data": {
            "text/plain": [
              "DeepGenerativeModel(\n",
              "  (encoder): Encoder(\n",
              "    (hidden): ModuleList(\n",
              "      (0): Linear(in_features=794, out_features=256, bias=True)\n",
              "      (1): Linear(in_features=256, out_features=128, bias=True)\n",
              "    )\n",
              "    (sample): GaussianSample(\n",
              "      (mu): Linear(in_features=128, out_features=32, bias=True)\n",
              "      (log_var): Linear(in_features=128, out_features=32, bias=True)\n",
              "    )\n",
              "  )\n",
              "  (decoder): Decoder(\n",
              "    (hidden): ModuleList(\n",
              "      (0): Linear(in_features=42, out_features=128, bias=True)\n",
              "      (1): Linear(in_features=128, out_features=256, bias=True)\n",
              "    )\n",
              "    (reconstruction): Linear(in_features=256, out_features=784, bias=True)\n",
              "    (output_activation): Sigmoid()\n",
              "  )\n",
              "  (classifier): Classifier(\n",
              "    (dense): Linear(in_features=784, out_features=256, bias=True)\n",
              "    (logits): Linear(in_features=256, out_features=10, bias=True)\n",
              "  )\n",
              ")"
            ]
          },
          "metadata": {
            "tags": []
          },
          "execution_count": 43
        }
      ]
    },
    {
      "cell_type": "code",
      "metadata": {
        "id": "BgVZAt_kOfA5",
        "colab_type": "code",
        "outputId": "5d6bee6d-277f-4e19-9bc1-43ac61b954f7",
        "colab": {
          "base_uri": "https://localhost:8080/",
          "height": 1000
        }
      },
      "source": [
        "# Only use N labelled examples per class\n",
        "# The rest of the data is unlabelled.\n",
        "sampler = ImportanceWeightedSampler(mc=1, iw=1)\n",
        "elbo = SVI(model, likelihood=binary_cross_entropy, sampler=sampler)\n",
        "\n",
        "# number of labelled instances per class\n",
        "N_labels = [10, 50, 100, 200, 500, 1000, 2500]\n",
        "BATCH_SIZE = 32\n",
        "accuracys = []\n",
        "\n",
        "for N in N_labels:\n",
        "    model = DeepGenerativeModel([784, y_dim, z_dim, h_dim])   \n",
        "\n",
        "    labelled, unlabelled, validation = get_mnist(location=\"./\", batch_size=BATCH_SIZE, labels_per_class=N)\n",
        "    alpha = 0.1 * len(unlabelled) / len(labelled)\n",
        "    optimizer = torch.optim.Adam(model.parameters(), lr=3e-4, betas=(0.9, 0.999))\n",
        "    print(\"Label per class = \", N)\n",
        "\n",
        "    for epoch in range(5):\n",
        "        # tell the model to train\n",
        "        model.train()\n",
        "        total_loss, accuracy = (0, 0)\n",
        "\n",
        "        labelled_iter = iter(labelled)\n",
        "      \n",
        "       # making sure we've seen all labelled cases:\n",
        "       # if no labelled case iter until we see one\n",
        "        for (u, _) in unlabelled:\n",
        "            labelled_elem = next(labelled_iter, None)\n",
        "            if labelled_elem is None:\n",
        "                labelled_iter = iter(labelled)\n",
        "                labelled_elem = next(labelled_iter, None)\n",
        "            (x, y) = labelled_elem\n",
        "\n",
        "        # for (x, y), (u, _) in zip(iter(labelled), iter(unlabelled)):\n",
        "        #     # maybe bounded by the shortest, need to maintain a separate iterator for the labelled data\n",
        "        #     # forward + backward + optimize\n",
        "        #     # Wrap in variables\n",
        "            x, y, u = Variable(x), Variable(y), Variable(u)\n",
        "            \n",
        "            L = -elbo(x, y)\n",
        "            U = -elbo(u) # using unlabelled data\n",
        "            # Add auxiliary classification loss q(y|x)\n",
        "            logits = model.classify(x)\n",
        "            \n",
        "            # Regular cross entropy\n",
        "            classication_loss = torch.sum(y * torch.log(logits + 1e-8), dim=1).mean()\n",
        "\n",
        "            J_alpha = L - alpha * classication_loss + U\n",
        "\n",
        "            J_alpha.backward()\n",
        "            # update params\n",
        "            optimizer.step()\n",
        "\n",
        "            # clear params \n",
        "            optimizer.zero_grad()\n",
        "\n",
        "            total_loss += torch.Tensor.item(J_alpha.data)\n",
        "            accuracy += torch.mean((torch.max(logits, 1)[1].data == torch.max(y, 1)[1].data).float())\n",
        "        \n",
        "        # end of each epoch \n",
        "        if epoch % 1 == 0:\n",
        "            # tell the model to test\n",
        "            model.eval()\n",
        "            m = len(unlabelled)\n",
        "            print(\"training\")\n",
        "            print(\"Epoch: {}\".format(epoch+1))\n",
        "            print(\"[Train]\\t\\t J_a: {:.2f}, accuracy: {:.2f}\".format(total_loss / m, accuracy / m))\n",
        "\n",
        "            total_loss, accuracy = (0, 0)\n",
        "\n",
        "            for x, y in validation:\n",
        "                x, y = Variable(x), Variable(y)\n",
        "                L = -elbo(x, y)\n",
        "                U = -elbo(x)\n",
        "\n",
        "                logits = model.classify(x)\n",
        "                classication_loss = -torch.sum(y * torch.log(logits + 1e-8), dim=1).mean()\n",
        "                J_alpha = L + alpha * classication_loss + U\n",
        "                total_loss += torch.Tensor.item(J_alpha.data)\n",
        "                accuracy += torch.mean((torch.max(logits, 1)[1].data == torch.max(y, 1)[1].data).float())\n",
        "\n",
        "            m = len(validation)\n",
        "            print(\"validation\")\n",
        "            print(\"[Validation]\\t J_a: {:.2f}, accuracy: {:.2f}\".format(total_loss / m, accuracy / m ))\n",
        "            accuracys.append(accuracy / m)\n",
        "\n",
        "            return accuracys"
      ],
      "execution_count": 0,
      "outputs": [
        {
          "output_type": "stream",
          "text": [
            "/usr/local/lib/python3.6/dist-packages/ipykernel_launcher.py:23: UserWarning: nn.init.xavier_normal is now deprecated in favor of nn.init.xavier_normal_.\n",
            "/usr/local/lib/python3.6/dist-packages/ipykernel_launcher.py:112: UserWarning: nn.init.xavier_normal is now deprecated in favor of nn.init.xavier_normal_.\n",
            "/usr/local/lib/python3.6/dist-packages/torchvision/datasets/mnist.py:45: UserWarning: train_labels has been renamed targets\n",
            "  warnings.warn(\"train_labels has been renamed targets\")\n"
          ],
          "name": "stderr"
        },
        {
          "output_type": "stream",
          "text": [
            "Label per class =  10\n"
          ],
          "name": "stdout"
        },
        {
          "output_type": "stream",
          "text": [
            "/usr/local/lib/python3.6/dist-packages/torchvision/datasets/mnist.py:50: UserWarning: test_labels has been renamed targets\n",
            "  warnings.warn(\"test_labels has been renamed targets\")\n"
          ],
          "name": "stderr"
        },
        {
          "output_type": "stream",
          "text": [
            "training\n",
            "Epoch: 1\n",
            "[Train]\t\t J_a: 1120.83, accuracy: 0.99\n",
            "validation\n",
            "[Validation]\t J_a: 1160.94, accuracy: 0.74\n",
            "training\n",
            "Epoch: 2\n",
            "[Train]\t\t J_a: 1116.73, accuracy: 1.00\n",
            "validation\n",
            "[Validation]\t J_a: 1167.25, accuracy: 0.73\n",
            "training\n",
            "Epoch: 3\n",
            "[Train]\t\t J_a: 1116.73, accuracy: 1.00\n",
            "validation\n",
            "[Validation]\t J_a: 1172.30, accuracy: 0.74\n",
            "training\n",
            "Epoch: 4\n",
            "[Train]\t\t J_a: 1116.63, accuracy: 1.00\n",
            "validation\n",
            "[Validation]\t J_a: 1175.51, accuracy: 0.74\n",
            "training\n",
            "Epoch: 5\n",
            "[Train]\t\t J_a: 1116.71, accuracy: 1.00\n",
            "validation\n",
            "[Validation]\t J_a: 1179.76, accuracy: 0.74\n",
            "Label per class =  50\n",
            "training\n",
            "Epoch: 1\n",
            "[Train]\t\t J_a: 1118.02, accuracy: 0.97\n",
            "validation\n",
            "[Validation]\t J_a: 1122.36, accuracy: 0.86\n",
            "training\n",
            "Epoch: 2\n",
            "[Train]\t\t J_a: 1116.40, accuracy: 1.00\n",
            "validation\n",
            "[Validation]\t J_a: 1123.05, accuracy: 0.86\n",
            "training\n",
            "Epoch: 3\n",
            "[Train]\t\t J_a: 1116.39, accuracy: 1.00\n",
            "validation\n",
            "[Validation]\t J_a: 1123.81, accuracy: 0.86\n",
            "training\n",
            "Epoch: 4\n",
            "[Train]\t\t J_a: 1116.33, accuracy: 1.00\n",
            "validation\n",
            "[Validation]\t J_a: 1124.32, accuracy: 0.87\n",
            "training\n",
            "Epoch: 5\n",
            "[Train]\t\t J_a: 1116.36, accuracy: 1.00\n",
            "validation\n",
            "[Validation]\t J_a: 1124.72, accuracy: 0.87\n",
            "Label per class =  100\n",
            "training\n",
            "Epoch: 1\n",
            "[Train]\t\t J_a: 1117.29, accuracy: 0.96\n",
            "validation\n",
            "[Validation]\t J_a: 1118.78, accuracy: 0.89\n",
            "training\n",
            "Epoch: 2\n",
            "[Train]\t\t J_a: 1116.20, accuracy: 1.00\n",
            "validation\n",
            "[Validation]\t J_a: 1118.99, accuracy: 0.90\n",
            "training\n",
            "Epoch: 3\n",
            "[Train]\t\t J_a: 1116.19, accuracy: 1.00\n",
            "validation\n",
            "[Validation]\t J_a: 1119.05, accuracy: 0.90\n",
            "training\n",
            "Epoch: 4\n",
            "[Train]\t\t J_a: 1116.23, accuracy: 1.00\n",
            "validation\n",
            "[Validation]\t J_a: 1119.16, accuracy: 0.91\n",
            "training\n",
            "Epoch: 5\n",
            "[Train]\t\t J_a: 1116.15, accuracy: 1.00\n",
            "validation\n",
            "[Validation]\t J_a: 1119.62, accuracy: 0.91\n",
            "Label per class =  200\n",
            "training\n",
            "Epoch: 1\n",
            "[Train]\t\t J_a: 1117.03, accuracy: 0.94\n",
            "validation\n",
            "[Validation]\t J_a: 1117.49, accuracy: 0.91\n",
            "training\n",
            "Epoch: 2\n",
            "[Train]\t\t J_a: 1116.34, accuracy: 0.99\n",
            "validation\n",
            "[Validation]\t J_a: 1117.48, accuracy: 0.92\n",
            "training\n",
            "Epoch: 3\n",
            "[Train]\t\t J_a: 1116.30, accuracy: 1.00\n",
            "validation\n",
            "[Validation]\t J_a: 1117.49, accuracy: 0.92\n",
            "training\n",
            "Epoch: 4\n",
            "[Train]\t\t J_a: 1116.31, accuracy: 1.00\n",
            "validation\n",
            "[Validation]\t J_a: 1117.52, accuracy: 0.93\n",
            "training\n",
            "Epoch: 5\n",
            "[Train]\t\t J_a: 1116.26, accuracy: 1.00\n",
            "validation\n",
            "[Validation]\t J_a: 1117.47, accuracy: 0.92\n",
            "Label per class =  500\n",
            "training\n",
            "Epoch: 1\n",
            "[Train]\t\t J_a: 1116.67, accuracy: 0.91\n",
            "validation\n",
            "[Validation]\t J_a: 1116.71, accuracy: 0.92\n",
            "training\n",
            "Epoch: 2\n",
            "[Train]\t\t J_a: 1116.41, accuracy: 0.97\n",
            "validation\n",
            "[Validation]\t J_a: 1116.55, accuracy: 0.93\n",
            "training\n",
            "Epoch: 3\n",
            "[Train]\t\t J_a: 1116.32, accuracy: 0.99\n",
            "validation\n",
            "[Validation]\t J_a: 1116.75, accuracy: 0.94\n",
            "training\n",
            "Epoch: 4\n",
            "[Train]\t\t J_a: 1116.32, accuracy: 0.99\n",
            "validation\n",
            "[Validation]\t J_a: 1116.63, accuracy: 0.94\n",
            "training\n",
            "Epoch: 5\n",
            "[Train]\t\t J_a: 1116.24, accuracy: 1.00\n",
            "validation\n",
            "[Validation]\t J_a: 1116.64, accuracy: 0.95\n",
            "Label per class =  1000\n",
            "training\n",
            "Epoch: 1\n",
            "[Train]\t\t J_a: 1116.48, accuracy: 0.90\n",
            "validation\n",
            "[Validation]\t J_a: 1116.59, accuracy: 0.93\n",
            "training\n",
            "Epoch: 2\n",
            "[Train]\t\t J_a: 1116.35, accuracy: 0.96\n",
            "validation\n",
            "[Validation]\t J_a: 1116.69, accuracy: 0.94\n",
            "training\n",
            "Epoch: 3\n",
            "[Train]\t\t J_a: 1116.32, accuracy: 0.98\n",
            "validation\n",
            "[Validation]\t J_a: 1116.50, accuracy: 0.95\n",
            "training\n",
            "Epoch: 4\n",
            "[Train]\t\t J_a: 1116.31, accuracy: 0.99\n",
            "validation\n",
            "[Validation]\t J_a: 1116.54, accuracy: 0.95\n",
            "training\n",
            "Epoch: 5\n",
            "[Train]\t\t J_a: 1116.32, accuracy: 0.99\n",
            "validation\n",
            "[Validation]\t J_a: 1116.58, accuracy: 0.96\n",
            "Label per class =  2500\n",
            "training\n",
            "Epoch: 1\n",
            "[Train]\t\t J_a: 1116.34, accuracy: 0.89\n",
            "validation\n",
            "[Validation]\t J_a: 1116.46, accuracy: 0.93\n",
            "training\n",
            "Epoch: 2\n",
            "[Train]\t\t J_a: 1116.27, accuracy: 0.95\n",
            "validation\n",
            "[Validation]\t J_a: 1116.34, accuracy: 0.95\n",
            "training\n",
            "Epoch: 3\n",
            "[Train]\t\t J_a: 1116.21, accuracy: 0.96\n",
            "validation\n",
            "[Validation]\t J_a: 1116.48, accuracy: 0.96\n",
            "training\n",
            "Epoch: 4\n",
            "[Train]\t\t J_a: 1116.27, accuracy: 0.97\n",
            "validation\n",
            "[Validation]\t J_a: 1116.43, accuracy: 0.96\n",
            "training\n",
            "Epoch: 5\n",
            "[Train]\t\t J_a: 1116.23, accuracy: 0.98\n",
            "validation\n",
            "[Validation]\t J_a: 1116.58, accuracy: 0.97\n"
          ],
          "name": "stdout"
        }
      ]
    },
    {
      "cell_type": "code",
      "metadata": {
        "id": "ytw1H_BwkFFG",
        "colab_type": "code",
        "outputId": "c1dca183-bb44-460b-b853-3bcc5922eb15",
        "colab": {
          "base_uri": "https://localhost:8080/",
          "height": 612
        }
      },
      "source": [
        "test_error"
      ],
      "execution_count": 0,
      "outputs": [
        {
          "output_type": "execute_result",
          "data": {
            "text/plain": [
              "[tensor(0.7366),\n",
              " tensor(0.7322),\n",
              " tensor(0.7360),\n",
              " tensor(0.7370),\n",
              " tensor(0.7359),\n",
              " tensor(0.8572),\n",
              " tensor(0.8626),\n",
              " tensor(0.8639),\n",
              " tensor(0.8654),\n",
              " tensor(0.8656),\n",
              " tensor(0.8888),\n",
              " tensor(0.8974),\n",
              " tensor(0.8991),\n",
              " tensor(0.9058),\n",
              " tensor(0.9051),\n",
              " tensor(0.9088),\n",
              " tensor(0.9184),\n",
              " tensor(0.9194),\n",
              " tensor(0.9263),\n",
              " tensor(0.9246),\n",
              " tensor(0.9243),\n",
              " tensor(0.9347),\n",
              " tensor(0.9420),\n",
              " tensor(0.9438),\n",
              " tensor(0.9463),\n",
              " tensor(0.9290),\n",
              " tensor(0.9449),\n",
              " tensor(0.9526),\n",
              " tensor(0.9523),\n",
              " tensor(0.9558),\n",
              " tensor(0.9347),\n",
              " tensor(0.9501),\n",
              " tensor(0.9602),\n",
              " tensor(0.9641),\n",
              " tensor(0.9674)]"
            ]
          },
          "metadata": {
            "tags": []
          },
          "execution_count": 17
        }
      ]
    },
    {
      "cell_type": "code",
      "metadata": {
        "id": "xQJvPRGikw-H",
        "colab_type": "code",
        "colab": {}
      },
      "source": [
        "accuracys = np.array([float(i.numpy()) for i in test_error])"
      ],
      "execution_count": 0,
      "outputs": []
    },
    {
      "cell_type": "code",
      "metadata": {
        "id": "_LgqPvfrlDqi",
        "colab_type": "code",
        "colab": {}
      },
      "source": [
        "error = 1-accuracys[np.arange(4,35,5)]"
      ],
      "execution_count": 0,
      "outputs": []
    },
    {
      "cell_type": "code",
      "metadata": {
        "id": "gDv7sC2ylJWO",
        "colab_type": "code",
        "outputId": "da69a49b-3d06-4330-8ce4-e4c0da6095d1",
        "colab": {
          "base_uri": "https://localhost:8080/",
          "height": 51
        }
      },
      "source": [
        "error"
      ],
      "execution_count": 0,
      "outputs": [
        {
          "output_type": "execute_result",
          "data": {
            "text/plain": [
              "array([0.26407748, 0.13438499, 0.09494805, 0.07537937, 0.05371404,\n",
              "       0.04422921, 0.03264779])"
            ]
          },
          "metadata": {
            "tags": []
          },
          "execution_count": 42
        }
      ]
    },
    {
      "cell_type": "code",
      "metadata": {
        "id": "HBzWWkkfHHLz",
        "colab_type": "code",
        "colab": {}
      },
      "source": [
        "# just copying the results, don't want to run again. should have stored the results\n",
        "error = [0.26407748, 0.13438499, 0.09494805, 0.07537937, 0.05371404,\n",
        "       0.04422921, 0.03264779]"
      ],
      "execution_count": 0,
      "outputs": []
    },
    {
      "cell_type": "code",
      "metadata": {
        "id": "m9oWBw1ZlatQ",
        "colab_type": "code",
        "outputId": "4236aee9-ebe5-49dd-beac-cb37809b8c90",
        "colab": {
          "base_uri": "https://localhost:8080/",
          "height": 296
        }
      },
      "source": [
        "N_labels = [10, 50, 100, 200, 500, 1000, 2500] # sampled from each class\n",
        "N_labels_scaled = [i*10 for i in N_labels] # times 10 for each class for total\n",
        "plt.plot(N_labels_scaled, error)\n",
        "plt.xlabel(\"labelled samples\")\n",
        "plt.ylabel(\"testing error\")"
      ],
      "execution_count": 203,
      "outputs": [
        {
          "output_type": "execute_result",
          "data": {
            "text/plain": [
              "Text(0, 0.5, 'testing error')"
            ]
          },
          "metadata": {
            "tags": []
          },
          "execution_count": 203
        },
        {
          "output_type": "display_data",
          "data": {
            "image/png": "[encoded data removed]",
            "text/plain": [
              "<Figure size 432x288 with 1 Axes>"
            ]
          },
          "metadata": {
            "tags": []
          }
        }
      ]
    },
    {
      "cell_type": "markdown",
      "metadata": {
        "id": "39zvdHT-pJLx",
        "colab_type": "text"
      },
      "source": [
        "## Evaluate M1"
      ]
    },
    {
      "cell_type": "code",
      "metadata": {
        "id": "TEOPwzWm4d81",
        "colab_type": "code",
        "colab": {}
      },
      "source": [
        "def get_mnist_VAE(location, batch_size, labels_per_class):\n",
        "\n",
        "    n_labels = 10\n",
        "\n",
        "    flatten_bernoulli = lambda x: transforms.ToTensor()(x).view(-1).bernoulli()\n",
        "\n",
        "    mnist_train = MNIST(location, train=True, download=True,\n",
        "                        transform=flatten_bernoulli, target_transform=onehot(n_labels))\n",
        "    mnist_valid = MNIST(location, train=False, download=True,\n",
        "                        transform=flatten_bernoulli, target_transform=onehot(n_labels))\n",
        "\n",
        "    def get_indices(labels, n=None):\n",
        "        # Only choose digits in n_labels\n",
        "        (indices,) = np.where(reduce(__or__, [labels == i for i in np.arange(n_labels)]))\n",
        "\n",
        "        # Ensure uniform distribution of labels\n",
        "        np.random.shuffle(indices)\n",
        "        # reorganize the data by labels and horizontally stack them so the data is like 0..0,1..1,2...2..so on\n",
        "        indices = np.hstack([list(filter(lambda idx: labels[idx] == i, indices))[:n] for i in range(n_labels)])\n",
        "        indices = torch.from_numpy(indices) # convert into a tensor\n",
        "        return indices\n",
        "    \n",
        "    # Datasets for MNIST, convert those into numpy arrayes for the SVM \n",
        "    indices =  get_indices(mnist_train.train_labels.numpy(), labels_per_class)\n",
        "    x_train = mnist_train.data.numpy()\n",
        "    y_train = mnist_train.targets.numpy()\n",
        "    labelled_train_x = x_train[indices]\n",
        "    #labelled_x = [i.flatten() for i in labelled_x]\n",
        "    labelled_train_y = y_train[indices]\n",
        "    # l,w,h = x_train.shape\n",
        "    # mask = np.zeros(l,dtype=bool) \n",
        "    # mask[indices] = True\n",
        "    # unlabelled_train_x = x_train[~mask]\n",
        "    # #unlabelled_x = [i.flatten() for i in unlabelled_x]\n",
        "    # unlabelled_train_y = y_train[~mask]\n",
        "    train = torch.utils.data.DataLoader(mnist_train, batch_size=batch_size, num_workers=2) \n",
        "    x_valid = mnist_valid.data.numpy()\n",
        "    y_valid = mnist_valid.targets.numpy()\n",
        "\n",
        "    return train, labelled_train_x, labelled_train_y, x_valid, y_valid\n"
      ],
      "execution_count": 0,
      "outputs": []
    },
    {
      "cell_type": "code",
      "metadata": {
        "id": "YTRD1jyNlkff",
        "colab_type": "code",
        "outputId": "dd5aaea4-748b-409c-bd82-ec9302c9ef2e",
        "colab": {
          "base_uri": "https://localhost:8080/",
          "height": 1000
        }
      },
      "source": [
        "# Train M1 model Variational encoder\n",
        "\n",
        "# number of labelled instances per class, there are 10000 instances in total in train so N label is smaller\n",
        "N_labels = [10, 50, 100, 200, 300, 400, 500]\n",
        "M1_accuracys = []\n",
        "\n",
        "for n_label in N_labels: \n",
        "    print(\"labels per class: \", n_label)\n",
        "    model = VariationalAutoencoder([784, 32, [256, 128]]) # generative\n",
        "    clf = LogisticRegression(multi_class='multinomial') # discrimative\n",
        "    train, labelled_train_x, labelled_train_y, x_valid, y_valid = get_mnist_VAE(location=\"./\", batch_size=32, labels_per_class=n_label)\n",
        "    optimizer = torch.optim.Adam(model.parameters(), lr=3e-4, betas=(0.9, 0.999))\n",
        "\n",
        "    for epoch in range(5):\n",
        "        # tell the model to train\n",
        "        model.train()\n",
        "        total_loss = 0\n",
        "        # VAE training doesn't require y and we go through all training examples\n",
        "\n",
        "        for (x, y) in iter(train): \n",
        "            \n",
        "            # Generative Training \n",
        "            x = Variable(x)\n",
        "\n",
        "            reconstruction = model(x)\n",
        "            \n",
        "            likelihood = -binary_cross_entropy(reconstruction, x)\n",
        "            elbo = likelihood - model.kl_divergence\n",
        "            \n",
        "            L = -torch.mean(elbo)\n",
        "\n",
        "            L.backward()\n",
        "            optimizer.step()\n",
        "            optimizer.zero_grad()\n",
        "\n",
        "            total_loss += torch.Tensor.item(L.data)        \n",
        "        m = len(train)\n",
        "        # at the end of the epoch\n",
        "        print(f\"Epoch: {epoch}\\tL: {total_loss/m:.2f}\")   \n",
        "\n",
        "    # Discriminative Training (train once with all labelled data and z generated by fully trained generator in this epoch)\n",
        "    n, l, w =  labelled_train_x.shape\n",
        "    labelled_train_x.shape = (n, l*w)\n",
        "    labelled_train_x_tensor = torch.from_numpy(labelled_train_x)\n",
        "    # use the trained model to obtain the latent representation of x\n",
        "    x_latent = model(Variable(labelled_train_x_tensor.float())) \n",
        "    class_labels = labelled_train_y\n",
        "    clf.fit(x_latent.detach().numpy(), class_labels)\n",
        "    \n",
        "    ##### validate when all epoches are done\n",
        "    # reshape the labelled x \n",
        "    n, l, w = x_valid.shape\n",
        "    x_valid.shape = (n, l*w)\n",
        "    x_valid_tensor = torch.from_numpy(x_valid)\n",
        "\n",
        "    # use the trained model to obtain the latent representation of x\n",
        "    x_latent = model(Variable(x_valid_tensor.float()))\n",
        "\n",
        "    # use trained clf to predict y \n",
        "    y_pred = clf.predict(x_latent.detach().numpy())\n",
        "\n",
        "    # calculate accuracy\n",
        "    accuracy = sum(y_pred == y_valid)/len(y_valid)\n",
        "    print(\"accuray: \", accuracy)\n",
        "    M1_accuracys.append(accuracy)"
      ],
      "execution_count": 192,
      "outputs": [
        {
          "output_type": "stream",
          "text": [
            "labels per class:  10\n"
          ],
          "name": "stdout"
        },
        {
          "output_type": "stream",
          "text": [
            "/usr/local/lib/python3.6/dist-packages/ipykernel_launcher.py:23: UserWarning: nn.init.xavier_normal is now deprecated in favor of nn.init.xavier_normal_.\n",
            "/usr/local/lib/python3.6/dist-packages/torchvision/datasets/mnist.py:45: UserWarning: train_labels has been renamed targets\n",
            "  warnings.warn(\"train_labels has been renamed targets\")\n"
          ],
          "name": "stderr"
        },
        {
          "output_type": "stream",
          "text": [
            "Epoch: 0\tL: 181.63\n",
            "Epoch: 1\tL: 151.31\n",
            "Epoch: 2\tL: 144.80\n",
            "Epoch: 3\tL: 141.12\n",
            "Epoch: 4\tL: 138.86\n"
          ],
          "name": "stdout"
        },
        {
          "output_type": "stream",
          "text": [
            "/usr/local/lib/python3.6/dist-packages/scipy/optimize/linesearch.py:314: LineSearchWarning: The line search algorithm did not converge\n",
            "  warn('The line search algorithm did not converge', LineSearchWarning)\n",
            "/usr/local/lib/python3.6/dist-packages/sklearn/utils/optimize.py:204: UserWarning: Line Search failed\n",
            "  warnings.warn('Line Search failed')\n"
          ],
          "name": "stderr"
        },
        {
          "output_type": "stream",
          "text": [
            "accuray:  0.8033\n",
            "labels per class:  50\n"
          ],
          "name": "stdout"
        },
        {
          "output_type": "stream",
          "text": [
            "/usr/local/lib/python3.6/dist-packages/ipykernel_launcher.py:23: UserWarning: nn.init.xavier_normal is now deprecated in favor of nn.init.xavier_normal_.\n",
            "/usr/local/lib/python3.6/dist-packages/torchvision/datasets/mnist.py:45: UserWarning: train_labels has been renamed targets\n",
            "  warnings.warn(\"train_labels has been renamed targets\")\n"
          ],
          "name": "stderr"
        },
        {
          "output_type": "stream",
          "text": [
            "Epoch: 0\tL: 181.70\n",
            "Epoch: 1\tL: 151.02\n",
            "Epoch: 2\tL: 144.45\n",
            "Epoch: 3\tL: 141.10\n",
            "Epoch: 4\tL: 138.95\n",
            "accuray:  0.8908\n",
            "labels per class:  100\n"
          ],
          "name": "stdout"
        },
        {
          "output_type": "stream",
          "text": [
            "/usr/local/lib/python3.6/dist-packages/ipykernel_launcher.py:23: UserWarning: nn.init.xavier_normal is now deprecated in favor of nn.init.xavier_normal_.\n",
            "/usr/local/lib/python3.6/dist-packages/torchvision/datasets/mnist.py:45: UserWarning: train_labels has been renamed targets\n",
            "  warnings.warn(\"train_labels has been renamed targets\")\n"
          ],
          "name": "stderr"
        },
        {
          "output_type": "stream",
          "text": [
            "Epoch: 0\tL: 181.79\n",
            "Epoch: 1\tL: 151.09\n",
            "Epoch: 2\tL: 144.64\n",
            "Epoch: 3\tL: 141.13\n",
            "Epoch: 4\tL: 138.71\n",
            "accuray:  0.902\n",
            "labels per class:  200\n"
          ],
          "name": "stdout"
        },
        {
          "output_type": "stream",
          "text": [
            "/usr/local/lib/python3.6/dist-packages/ipykernel_launcher.py:23: UserWarning: nn.init.xavier_normal is now deprecated in favor of nn.init.xavier_normal_.\n",
            "/usr/local/lib/python3.6/dist-packages/torchvision/datasets/mnist.py:45: UserWarning: train_labels has been renamed targets\n",
            "  warnings.warn(\"train_labels has been renamed targets\")\n"
          ],
          "name": "stderr"
        },
        {
          "output_type": "stream",
          "text": [
            "Epoch: 0\tL: 182.86\n",
            "Epoch: 1\tL: 152.14\n",
            "Epoch: 2\tL: 145.64\n",
            "Epoch: 3\tL: 141.98\n",
            "Epoch: 4\tL: 139.48\n"
          ],
          "name": "stdout"
        },
        {
          "output_type": "stream",
          "text": [
            "/usr/local/lib/python3.6/dist-packages/scipy/optimize/linesearch.py:314: LineSearchWarning: The line search algorithm did not converge\n",
            "  warn('The line search algorithm did not converge', LineSearchWarning)\n",
            "/usr/local/lib/python3.6/dist-packages/sklearn/utils/optimize.py:204: UserWarning: Line Search failed\n",
            "  warnings.warn('Line Search failed')\n"
          ],
          "name": "stderr"
        },
        {
          "output_type": "stream",
          "text": [
            "accuray:  0.905\n",
            "labels per class:  300\n"
          ],
          "name": "stdout"
        },
        {
          "output_type": "stream",
          "text": [
            "/usr/local/lib/python3.6/dist-packages/ipykernel_launcher.py:23: UserWarning: nn.init.xavier_normal is now deprecated in favor of nn.init.xavier_normal_.\n",
            "/usr/local/lib/python3.6/dist-packages/torchvision/datasets/mnist.py:45: UserWarning: train_labels has been renamed targets\n",
            "  warnings.warn(\"train_labels has been renamed targets\")\n"
          ],
          "name": "stderr"
        },
        {
          "output_type": "stream",
          "text": [
            "Epoch: 0\tL: 181.46\n",
            "Epoch: 1\tL: 151.45\n",
            "Epoch: 2\tL: 144.97\n",
            "Epoch: 3\tL: 141.24\n",
            "Epoch: 4\tL: 138.86\n"
          ],
          "name": "stdout"
        },
        {
          "output_type": "stream",
          "text": [
            "/usr/local/lib/python3.6/dist-packages/scipy/optimize/linesearch.py:314: LineSearchWarning: The line search algorithm did not converge\n",
            "  warn('The line search algorithm did not converge', LineSearchWarning)\n",
            "/usr/local/lib/python3.6/dist-packages/sklearn/utils/optimize.py:204: UserWarning: Line Search failed\n",
            "  warnings.warn('Line Search failed')\n"
          ],
          "name": "stderr"
        },
        {
          "output_type": "stream",
          "text": [
            "accuray:  0.9099\n",
            "labels per class:  400\n"
          ],
          "name": "stdout"
        },
        {
          "output_type": "stream",
          "text": [
            "/usr/local/lib/python3.6/dist-packages/ipykernel_launcher.py:23: UserWarning: nn.init.xavier_normal is now deprecated in favor of nn.init.xavier_normal_.\n",
            "/usr/local/lib/python3.6/dist-packages/torchvision/datasets/mnist.py:45: UserWarning: train_labels has been renamed targets\n",
            "  warnings.warn(\"train_labels has been renamed targets\")\n"
          ],
          "name": "stderr"
        },
        {
          "output_type": "stream",
          "text": [
            "Epoch: 0\tL: 181.40\n",
            "Epoch: 1\tL: 151.37\n",
            "Epoch: 2\tL: 144.70\n",
            "Epoch: 3\tL: 141.18\n",
            "Epoch: 4\tL: 138.79\n"
          ],
          "name": "stdout"
        },
        {
          "output_type": "stream",
          "text": [
            "/usr/local/lib/python3.6/dist-packages/scipy/optimize/linesearch.py:314: LineSearchWarning: The line search algorithm did not converge\n",
            "  warn('The line search algorithm did not converge', LineSearchWarning)\n",
            "/usr/local/lib/python3.6/dist-packages/sklearn/utils/optimize.py:204: UserWarning: Line Search failed\n",
            "  warnings.warn('Line Search failed')\n"
          ],
          "name": "stderr"
        },
        {
          "output_type": "stream",
          "text": [
            "accuray:  0.9093\n",
            "labels per class:  500\n"
          ],
          "name": "stdout"
        },
        {
          "output_type": "stream",
          "text": [
            "/usr/local/lib/python3.6/dist-packages/ipykernel_launcher.py:23: UserWarning: nn.init.xavier_normal is now deprecated in favor of nn.init.xavier_normal_.\n",
            "/usr/local/lib/python3.6/dist-packages/torchvision/datasets/mnist.py:45: UserWarning: train_labels has been renamed targets\n",
            "  warnings.warn(\"train_labels has been renamed targets\")\n"
          ],
          "name": "stderr"
        },
        {
          "output_type": "stream",
          "text": [
            "Epoch: 0\tL: 183.15\n",
            "Epoch: 1\tL: 152.16\n",
            "Epoch: 2\tL: 145.14\n",
            "Epoch: 3\tL: 141.20\n",
            "Epoch: 4\tL: 138.69\n"
          ],
          "name": "stdout"
        },
        {
          "output_type": "stream",
          "text": [
            "/usr/local/lib/python3.6/dist-packages/scipy/optimize/linesearch.py:314: LineSearchWarning: The line search algorithm did not converge\n",
            "  warn('The line search algorithm did not converge', LineSearchWarning)\n",
            "/usr/local/lib/python3.6/dist-packages/sklearn/utils/optimize.py:204: UserWarning: Line Search failed\n",
            "  warnings.warn('Line Search failed')\n"
          ],
          "name": "stderr"
        },
        {
          "output_type": "stream",
          "text": [
            "accuray:  0.9005\n"
          ],
          "name": "stdout"
        }
      ]
    },
    {
      "cell_type": "code",
      "metadata": {
        "id": "JwcqJXydSBm9",
        "colab_type": "code",
        "colab": {}
      },
      "source": [
        "M1_accuracys = n[0.8033, 0.8908, 0.902, 0.905 ,0.9099,0.9093,0.9005]"
      ],
      "execution_count": 0,
      "outputs": []
    },
    {
      "cell_type": "code",
      "metadata": {
        "id": "oNbeWTTs1dOw",
        "colab_type": "code",
        "colab": {
          "base_uri": "https://localhost:8080/",
          "height": 297
        },
        "outputId": "b026c443-6249-446f-fd45-391b0dd47c6c"
      },
      "source": [
        "N_labels = [10, 50, 100, 200, 300, 400, 500]\n",
        "N_labels_scaled = [i*10 for i in N_labels] # 10 for each class so total number of labelled samples should times 10\n",
        "M1_err = [1-i for i in M1_accuracys]\n",
        "plt.plot(N_labels_scaled, M1_err)\n",
        "plt.xlabel(\"labelled samples\")\n",
        "plt.ylabel(\"testing error\")"
      ],
      "execution_count": 49,
      "outputs": [
        {
          "output_type": "execute_result",
          "data": {
            "text/plain": [
              "Text(0, 0.5, 'testing error')"
            ]
          },
          "metadata": {
            "tags": []
          },
          "execution_count": 49
        },
        {
          "output_type": "display_data",
          "data": {
            "image/png": "[encoded data removed]",
            "text/plain": [
              "<Figure size 432x288 with 1 Axes>"
            ]
          },
          "metadata": {
            "tags": []
          }
        }
      ]
    },
    {
      "cell_type": "code",
      "metadata": {
        "id": "8p1gkHbHEU2K",
        "colab_type": "code",
        "colab": {
          "base_uri": "https://localhost:8080/",
          "height": 1000
        },
        "outputId": "8205880f-3e1e-474d-f266-0a06b768cd75"
      },
      "source": [
        "# run the same for M2\n",
        "# Only use N labelled examples per class\n",
        "# The rest of the data is unlabelled.\n",
        "y_dim = 10\n",
        "z_dim = 32\n",
        "h_dim = [256, 128]\n",
        "\n",
        "# # 28* 28 input images so the input is 784, \n",
        "# # in the decoder, in_feature = 32+10(y_dim) = 42\n",
        "sampler = ImportanceWeightedSampler(mc=1, iw=1)\n",
        "model = DeepGenerativeModel([784, y_dim, z_dim, h_dim])\n",
        "elbo = SVI(model, likelihood=binary_cross_entropy, sampler=sampler)\n",
        "\n",
        "# number of labelled instances per class\n",
        "N_labels = [10, 50, 100, 200, 300, 400, 500]\n",
        "BATCH_SIZE = 32\n",
        "M2_accuracys = []\n",
        "\n",
        "for N in N_labels:\n",
        "    model = DeepGenerativeModel([784, y_dim, z_dim, h_dim])   \n",
        "    labelled, unlabelled, validation = get_mnist(location=\"./\", batch_size=BATCH_SIZE, labels_per_class=N)\n",
        "    alpha = 0.1 * len(unlabelled) / len(labelled)\n",
        "    optimizer = torch.optim.Adam(model.parameters(), lr=3e-4, betas=(0.9, 0.999))\n",
        "    print(\"Label per class = \", N)\n",
        "\n",
        "    for epoch in range(5):\n",
        "        # tell the model to train\n",
        "        model.train()\n",
        "        total_loss, accuracy = (0, 0)\n",
        "\n",
        "        labelled_iter = iter(labelled)\n",
        "      \n",
        "       # making sure we've seen all labelled cases:\n",
        "       # if no labelled case iter until we see one\n",
        "        for (u, _) in unlabelled:\n",
        "            labelled_elem = next(labelled_iter, None)\n",
        "            if labelled_elem is None:\n",
        "                labelled_iter = iter(labelled)\n",
        "                labelled_elem = next(labelled_iter, None)\n",
        "            (x, y) = labelled_elem\n",
        "\n",
        "        # for (x, y), (u, _) in zip(iter(labelled), iter(unlabelled)):\n",
        "            \n",
        "        #     # maybe bounded by the shortest, need to maintain a separate iterator for the labelled data\n",
        "\n",
        "\n",
        "        #     # forward + backward + optimize\n",
        "        #     # Wrap in variables\n",
        "            x, y, u = Variable(x), Variable(y), Variable(u)\n",
        "            \n",
        "            L = -elbo(x, y)\n",
        "            U = -elbo(u) # using unlabelled data\n",
        "            # Add auxiliary classification loss q(y|x)\n",
        "            logits = model.classify(x)\n",
        "            \n",
        "            # Regular cross entropy\n",
        "            classication_loss = torch.sum(y * torch.log(logits + 1e-8), dim=1).mean()\n",
        "\n",
        "            J_alpha = L - alpha * classication_loss + U\n",
        "\n",
        "            J_alpha.backward()\n",
        "            # update params\n",
        "            optimizer.step()\n",
        "\n",
        "            # clear params \n",
        "            optimizer.zero_grad()\n",
        "\n",
        "            total_loss += torch.Tensor.item(J_alpha.data)\n",
        "            accuracy += torch.mean((torch.max(logits, 1)[1].data == torch.max(y, 1)[1].data).float())\n",
        "        \n",
        "        # end of each epoch \n",
        "        if epoch % 1 == 0:\n",
        "            # tell the model to test\n",
        "            model.eval()\n",
        "            m = len(unlabelled)\n",
        "            print(\"training\")\n",
        "            print(\"Epoch: {}\".format(epoch+1))\n",
        "            print(\"[Train]\\t\\t J_a: {:.2f}, accuracy: {:.2f}\".format(total_loss / m, accuracy / m))\n",
        "\n",
        "            total_loss, accuracy = (0, 0)\n",
        "\n",
        "            for x, y in validation:\n",
        "                x, y = Variable(x), Variable(y)\n",
        "                L = -elbo(x, y)\n",
        "                U = -elbo(x)\n",
        "\n",
        "                logits = model.classify(x)\n",
        "                classication_loss = -torch.sum(y * torch.log(logits + 1e-8), dim=1).mean()\n",
        "                J_alpha = L + alpha * classication_loss + U\n",
        "                total_loss += torch.Tensor.item(J_alpha.data)\n",
        "                accuracy += torch.mean((torch.max(logits, 1)[1].data == torch.max(y, 1)[1].data).float())\n",
        "\n",
        "            m = len(validation)\n",
        "            print(\"validation\")\n",
        "            print(\"[Validation]\\t J_a: {:.2f}, accuracy: {:.2f}\".format(total_loss / m, accuracy / m ))\n",
        "            M2_accuracys.append(accuracy / m)"
      ],
      "execution_count": 10,
      "outputs": [
        {
          "output_type": "stream",
          "text": [
            "/usr/local/lib/python3.6/dist-packages/ipykernel_launcher.py:23: UserWarning: nn.init.xavier_normal is now deprecated in favor of nn.init.xavier_normal_.\n",
            "/usr/local/lib/python3.6/dist-packages/ipykernel_launcher.py:112: UserWarning: nn.init.xavier_normal is now deprecated in favor of nn.init.xavier_normal_.\n",
            "/usr/local/lib/python3.6/dist-packages/torchvision/datasets/mnist.py:45: UserWarning: train_labels has been renamed targets\n",
            "  warnings.warn(\"train_labels has been renamed targets\")\n"
          ],
          "name": "stderr"
        },
        {
          "output_type": "stream",
          "text": [
            "Label per class =  10\n"
          ],
          "name": "stdout"
        },
        {
          "output_type": "stream",
          "text": [
            "/usr/local/lib/python3.6/dist-packages/torchvision/datasets/mnist.py:50: UserWarning: test_labels has been renamed targets\n",
            "  warnings.warn(\"test_labels has been renamed targets\")\n"
          ],
          "name": "stderr"
        },
        {
          "output_type": "stream",
          "text": [
            "training\n",
            "Epoch: 1\n",
            "[Train]\t\t J_a: 1115.71, accuracy: 0.99\n",
            "validation\n",
            "[Validation]\t J_a: 1161.82, accuracy: 0.73\n",
            "training\n",
            "Epoch: 2\n",
            "[Train]\t\t J_a: 1111.87, accuracy: 1.00\n",
            "validation\n",
            "[Validation]\t J_a: 1168.81, accuracy: 0.73\n",
            "training\n",
            "Epoch: 3\n",
            "[Train]\t\t J_a: 1111.75, accuracy: 1.00\n",
            "validation\n",
            "[Validation]\t J_a: 1174.37, accuracy: 0.73\n",
            "training\n",
            "Epoch: 4\n",
            "[Train]\t\t J_a: 1111.73, accuracy: 1.00\n",
            "validation\n",
            "[Validation]\t J_a: 1179.39, accuracy: 0.73\n",
            "training\n",
            "Epoch: 5\n",
            "[Train]\t\t J_a: 1111.66, accuracy: 1.00\n",
            "validation\n",
            "[Validation]\t J_a: 1184.04, accuracy: 0.73\n",
            "Label per class =  50\n",
            "training\n",
            "Epoch: 1\n",
            "[Train]\t\t J_a: 1113.84, accuracy: 0.97\n",
            "validation\n",
            "[Validation]\t J_a: 1117.94, accuracy: 0.87\n",
            "training\n",
            "Epoch: 2\n",
            "[Train]\t\t J_a: 1111.93, accuracy: 1.00\n",
            "validation\n",
            "[Validation]\t J_a: 1118.73, accuracy: 0.87\n",
            "training\n",
            "Epoch: 3\n",
            "[Train]\t\t J_a: 1111.88, accuracy: 1.00\n",
            "validation\n",
            "[Validation]\t J_a: 1119.15, accuracy: 0.87\n",
            "training\n",
            "Epoch: 4\n",
            "[Train]\t\t J_a: 1111.86, accuracy: 1.00\n",
            "validation\n",
            "[Validation]\t J_a: 1121.51, accuracy: 0.85\n",
            "training\n",
            "Epoch: 5\n",
            "[Train]\t\t J_a: 1111.90, accuracy: 1.00\n",
            "validation\n",
            "[Validation]\t J_a: 1120.26, accuracy: 0.87\n",
            "Label per class =  100\n",
            "training\n",
            "Epoch: 1\n",
            "[Train]\t\t J_a: 1113.01, accuracy: 0.96\n",
            "validation\n",
            "[Validation]\t J_a: 1114.48, accuracy: 0.89\n",
            "training\n",
            "Epoch: 2\n",
            "[Train]\t\t J_a: 1111.90, accuracy: 1.00\n",
            "validation\n",
            "[Validation]\t J_a: 1114.69, accuracy: 0.89\n",
            "training\n",
            "Epoch: 3\n",
            "[Train]\t\t J_a: 1111.87, accuracy: 1.00\n",
            "validation\n",
            "[Validation]\t J_a: 1114.77, accuracy: 0.90\n",
            "training\n",
            "Epoch: 4\n",
            "[Train]\t\t J_a: 1111.86, accuracy: 1.00\n",
            "validation\n",
            "[Validation]\t J_a: 1114.89, accuracy: 0.90\n",
            "training\n",
            "Epoch: 5\n",
            "[Train]\t\t J_a: 1111.84, accuracy: 1.00\n",
            "validation\n",
            "[Validation]\t J_a: 1115.10, accuracy: 0.90\n",
            "Label per class =  200\n",
            "training\n",
            "Epoch: 1\n",
            "[Train]\t\t J_a: 1112.68, accuracy: 0.94\n",
            "validation\n",
            "[Validation]\t J_a: 1112.76, accuracy: 0.91\n",
            "training\n",
            "Epoch: 2\n",
            "[Train]\t\t J_a: 1112.07, accuracy: 0.99\n",
            "validation\n",
            "[Validation]\t J_a: 1112.97, accuracy: 0.92\n",
            "training\n",
            "Epoch: 3\n",
            "[Train]\t\t J_a: 1111.96, accuracy: 1.00\n",
            "validation\n",
            "[Validation]\t J_a: 1112.97, accuracy: 0.93\n",
            "training\n",
            "Epoch: 4\n",
            "[Train]\t\t J_a: 1111.93, accuracy: 1.00\n",
            "validation\n",
            "[Validation]\t J_a: 1112.98, accuracy: 0.93\n",
            "training\n",
            "Epoch: 5\n",
            "[Train]\t\t J_a: 1111.92, accuracy: 1.00\n",
            "validation\n",
            "[Validation]\t J_a: 1113.14, accuracy: 0.93\n",
            "Label per class =  300\n",
            "training\n",
            "Epoch: 1\n",
            "[Train]\t\t J_a: 1112.51, accuracy: 0.93\n",
            "validation\n",
            "[Validation]\t J_a: 1112.52, accuracy: 0.92\n",
            "training\n",
            "Epoch: 2\n",
            "[Train]\t\t J_a: 1112.04, accuracy: 0.99\n",
            "validation\n",
            "[Validation]\t J_a: 1112.39, accuracy: 0.93\n",
            "training\n",
            "Epoch: 3\n",
            "[Train]\t\t J_a: 1112.01, accuracy: 1.00\n",
            "validation\n",
            "[Validation]\t J_a: 1112.68, accuracy: 0.93\n",
            "training\n",
            "Epoch: 4\n",
            "[Train]\t\t J_a: 1111.91, accuracy: 1.00\n",
            "validation\n",
            "[Validation]\t J_a: 1112.38, accuracy: 0.93\n",
            "training\n",
            "Epoch: 5\n",
            "[Train]\t\t J_a: 1111.98, accuracy: 1.00\n",
            "validation\n",
            "[Validation]\t J_a: 1112.73, accuracy: 0.93\n",
            "Label per class =  400\n",
            "training\n",
            "Epoch: 1\n",
            "[Train]\t\t J_a: 1112.44, accuracy: 0.91\n",
            "validation\n",
            "[Validation]\t J_a: 1112.28, accuracy: 0.92\n",
            "training\n",
            "Epoch: 2\n",
            "[Train]\t\t J_a: 1112.10, accuracy: 0.98\n",
            "validation\n",
            "[Validation]\t J_a: 1112.54, accuracy: 0.93\n",
            "training\n",
            "Epoch: 3\n",
            "[Train]\t\t J_a: 1112.00, accuracy: 0.99\n",
            "validation\n",
            "[Validation]\t J_a: 1112.41, accuracy: 0.94\n",
            "training\n",
            "Epoch: 4\n",
            "[Train]\t\t J_a: 1111.98, accuracy: 1.00\n",
            "validation\n",
            "[Validation]\t J_a: 1112.38, accuracy: 0.94\n",
            "training\n",
            "Epoch: 5\n",
            "[Train]\t\t J_a: 1111.94, accuracy: 1.00\n",
            "validation\n",
            "[Validation]\t J_a: 1112.31, accuracy: 0.94\n",
            "Label per class =  500\n",
            "training\n",
            "Epoch: 1\n",
            "[Train]\t\t J_a: 1112.30, accuracy: 0.91\n",
            "validation\n",
            "[Validation]\t J_a: 1112.33, accuracy: 0.92\n",
            "training\n",
            "Epoch: 2\n",
            "[Train]\t\t J_a: 1112.00, accuracy: 0.97\n",
            "validation\n",
            "[Validation]\t J_a: 1112.35, accuracy: 0.93\n",
            "training\n",
            "Epoch: 3\n",
            "[Train]\t\t J_a: 1112.02, accuracy: 0.99\n",
            "validation\n",
            "[Validation]\t J_a: 1112.22, accuracy: 0.94\n",
            "training\n",
            "Epoch: 4\n",
            "[Train]\t\t J_a: 1111.97, accuracy: 0.99\n",
            "validation\n",
            "[Validation]\t J_a: 1112.26, accuracy: 0.94\n",
            "training\n",
            "Epoch: 5\n",
            "[Train]\t\t J_a: 1111.89, accuracy: 1.00\n",
            "validation\n",
            "[Validation]\t J_a: 1112.34, accuracy: 0.95\n"
          ],
          "name": "stdout"
        }
      ]
    },
    {
      "cell_type": "code",
      "metadata": {
        "id": "df8MU0JwPJbj",
        "colab_type": "code",
        "colab": {
          "base_uri": "https://localhost:8080/",
          "height": 638
        },
        "outputId": "19f8b100-6fdb-4b98-bc15-7dd2b68a34c2"
      },
      "source": [
        "M2_accuracys"
      ],
      "execution_count": 37,
      "outputs": [
        {
          "output_type": "execute_result",
          "data": {
            "text/plain": [
              "[tensor(0.7340),\n",
              " tensor(0.7260),\n",
              " tensor(0.7315),\n",
              " tensor(0.7322),\n",
              " tensor(0.7327),\n",
              " tensor(0.8651),\n",
              " tensor(0.8669),\n",
              " tensor(0.8706),\n",
              " tensor(0.8459),\n",
              " tensor(0.8735),\n",
              " tensor(0.8876),\n",
              " tensor(0.8921),\n",
              " tensor(0.8989),\n",
              " tensor(0.8988),\n",
              " tensor(0.9028),\n",
              " tensor(0.9094),\n",
              " tensor(0.9177),\n",
              " tensor(0.9253),\n",
              " tensor(0.9288),\n",
              " tensor(0.9265),\n",
              " tensor(0.9156),\n",
              " tensor(0.9267),\n",
              " tensor(0.9296),\n",
              " tensor(0.9347),\n",
              " tensor(0.9333),\n",
              " tensor(0.9198),\n",
              " tensor(0.9329),\n",
              " tensor(0.9382),\n",
              " tensor(0.9386),\n",
              " tensor(0.9443),\n",
              " tensor(0.9229),\n",
              " tensor(0.9346),\n",
              " tensor(0.9403),\n",
              " tensor(0.9430),\n",
              " tensor(0.9463)]"
            ]
          },
          "metadata": {
            "tags": []
          },
          "execution_count": 37
        }
      ]
    },
    {
      "cell_type": "code",
      "metadata": {
        "id": "axH33gPMKF-I",
        "colab_type": "code",
        "colab": {}
      },
      "source": [
        "M2_acc = np.array([float(i.numpy()) for i in M2_accuracys])\n",
        "M2_acc = M2_acc[np.arange(4,len(M2_acc), 5)]"
      ],
      "execution_count": 0,
      "outputs": []
    },
    {
      "cell_type": "code",
      "metadata": {
        "id": "Om4TIhjESg1S",
        "colab_type": "code",
        "colab": {
          "base_uri": "https://localhost:8080/",
          "height": 34
        },
        "outputId": "6c5299bb-7648-4c19-cc84-989368659ed7"
      },
      "source": [
        ""
      ],
      "execution_count": 48,
      "outputs": [
        {
          "output_type": "execute_result",
          "data": {
            "text/plain": [
              "array([0.1967, 0.1092, 0.098 , 0.095 , 0.0901, 0.0907, 0.0995])"
            ]
          },
          "metadata": {
            "tags": []
          },
          "execution_count": 48
        }
      ]
    },
    {
      "cell_type": "code",
      "metadata": {
        "id": "HP0hcu-mHrKJ",
        "colab_type": "code",
        "colab": {
          "base_uri": "https://localhost:8080/",
          "height": 296
        },
        "outputId": "fe0dae4d-17e8-45c4-f32f-e3647ad415ce"
      },
      "source": [
        "N_labels = [10, 50, 100, 200, 300, 400, 500]\n",
        "N_labels_scaled = [i*10 for i in N_labels] # 10 for each class so total number of labelled samples should times 10\n",
        "M2_err = 1-M2_acc\n",
        "plt.plot(N_labels_scaled, M2_err, label='M2 error')\n",
        "plt.plot(N_labels_scaled, M1_err, label='M1 error')\n",
        "plt.xlabel(\"labelled samples\")\n",
        "plt.ylabel(\"testing error\")\n",
        "plt.legend()"
      ],
      "execution_count": 52,
      "outputs": [
        {
          "output_type": "execute_result",
          "data": {
            "text/plain": [
              "<matplotlib.legend.Legend at 0x7fb0e70f9160>"
            ]
          },
          "metadata": {
            "tags": []
          },
          "execution_count": 52
        },
        {
          "output_type": "display_data",
          "data": {
            "image/png": "[encoded data removed]",
            "text/plain": [
              "<Figure size 432x288 with 1 Axes>"
            ]
          },
          "metadata": {
            "tags": []
          }
        }
      ]
    },
    {
      "cell_type": "code",
      "metadata": {
        "id": "HInEQTZOKCck",
        "colab_type": "code",
        "colab": {}
      },
      "source": [
        ""
      ],
      "execution_count": 0,
      "outputs": []
    },
    {
      "cell_type": "code",
      "metadata": {
        "id": "xlm0yiFvJ_rL",
        "colab_type": "code",
        "colab": {}
      },
      "source": [
        ""
      ],
      "execution_count": 0,
      "outputs": []
    }
  ]
}
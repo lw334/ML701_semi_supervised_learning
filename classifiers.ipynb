{
 "cells": [
  {
   "cell_type": "code",
   "execution_count": null,
   "metadata": {},
   "outputs": [],
   "source": [
    "from keras.models import Sequential\n",
    "from keras.layers import Dense, Dropout, Activation, Embedding, Flatten, LSTM, Conv2D, MaxPooling2D\n",
    "from keras.layers.advanced_activations import LeakyReLU\n",
    "from keras.regularizers import l2"
   ]
  },
  {
   "cell_type": "code",
   "execution_count": null,
   "metadata": {},
   "outputs": [],
   "source": [
    "def seqDenseNN(xTrain, layerSize, dropout, regLambda):\n",
    "    model = Sequential()\n",
    "    n_units = layerSize\n",
    "    data_dim = xTrain.shape[1]\n",
    "    \n",
    "    model.add(Dense(n_units, input_dim = data_dim, kernel_regularizer = l2(regLambda)))\n",
    "    model.add(LeakyReLU())\n",
    "    model.add(Dropout(dropout))\n",
    "    \n",
    "    model.add(Dense(n_units, kernel_regularizer = l2(regLambda)))\n",
    "    model.add(LeakyReLU())\n",
    "    model.add(Dropout(dropout))\n",
    "    \n",
    "    model.add(Dense(n_units, kernel_regularizer = l2(regLambda)))\n",
    "    model.add(LeakyReLU())\n",
    "    model.add(Dropout(dropout))\n",
    "    \n",
    "    model.add(Dense(10))\n",
    "    model.add(Activation('softmax'))\n",
    "    \n",
    "    model.compile(optimizer = 'rmsprop', loss='categorical_crossentropy', metrics=['accuracy'])\n",
    "    return(model)"
   ]
  },
  {
   "cell_type": "code",
   "execution_count": null,
   "metadata": {},
   "outputs": [],
   "source": [
    "def seqCNN(xTrain, layerSize, dropout):\n",
    "    input_shape = (28, 28, 1)\n",
    "    model = Sequential()\n",
    "    model.add(Conv2D(32, kernel_size = (3, 3),\n",
    "                     activation = 'relu',\n",
    "                     input_shape = input_shape))\n",
    "\n",
    "    model.add(Conv2D(64, (3, 3), activation='relu'))\n",
    "    model.add(MaxPooling2D(pool_size=(2, 2)))\n",
    "    model.add(Dropout(0.25))\n",
    "    model.add(Flatten())\n",
    "    model.add(Dense(128, activation='relu'))\n",
    "    model.add(Dropout(0.5))\n",
    "    model.add(Dense(10, activation='softmax'))\n",
    "    \n",
    "    model.compile(loss = 'categorical_crossentropy',\n",
    "                  optimizer = 'Adadelta',\n",
    "                  metrics = ['accuracy'])\n",
    "    return(model)"
   ]
  },
  {
   "cell_type": "code",
   "execution_count": null,
   "metadata": {},
   "outputs": [],
   "source": [
    "def seqDenseLSTM(max_features, dropout, regLambda):\n",
    "    model = Sequential()\n",
    "    model.add(Embedding(max_features, 128))\n",
    "    model.add(LSTM(128, dropout = dropout, recurrent_dropout = dropout, \n",
    "                   kernel_regularizer = l2(regLambda)))\n",
    "    model.add(Dense(1, activation='sigmoid'))\n",
    "    \n",
    "#    model = Sequential()\n",
    "#    # Input - Layer\n",
    "#    model.add(Dense(50, activation = \"relu\", input_shape=(25000, )))\n",
    "#    # Hidden - Layers\n",
    "#    model.add(Dropout(0.3, noise_shape=None, seed=None))\n",
    "#    model.add(Dense(50, activation = \"relu\"))\n",
    "#    model.add(Dropout(0.2, noise_shape=None, seed=None))\n",
    "#    model.add(Dense(50, activation = \"relu\"))\n",
    "#    # Output- Layer\n",
    "#    model.add(Dense(1, activation = \"sigmoid\"))\n",
    "\n",
    "    # try using different optimizers and different optimizer configs\n",
    "    model.compile(loss = 'binary_crossentropy', optimizer = 'adam', metrics = ['accuracy'])\n",
    "    \n",
    "    return(model)"
   ]
  }
 ],
 "metadata": {
  "kernelspec": {
   "display_name": "Python 3",
   "language": "python",
   "name": "python3"
  },
  "language_info": {
   "codemirror_mode": {
    "name": "ipython",
    "version": 3
   },
   "file_extension": ".py",
   "mimetype": "text/x-python",
   "name": "python",
   "nbconvert_exporter": "python",
   "pygments_lexer": "ipython3",
   "version": "3.7.4"
  }
 },
 "nbformat": 4,
 "nbformat_minor": 2
}

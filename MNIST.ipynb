{
 "cells": [
  {
   "cell_type": "code",
   "execution_count": null,
   "metadata": {},
   "outputs": [
    {
     "name": "stdout",
     "output_type": "stream",
     "text": [
      "(array([0, 1, 2, 3, 4, 5, 6, 7, 8, 9], dtype=uint8), array([5923, 6742, 5958, 6131, 5842, 5421, 5918, 6265, 5851, 5949],\n",
      "      dtype=int64))\n",
      "0\n",
      "59990\n",
      "Train on 9 samples, validate on 1 samples\n",
      "Epoch 1/5\n",
      " - 1s - loss: 2.3003 - accuracy: 0.0000e+00 - val_loss: 3.6974 - val_accuracy: 0.0000e+00\n",
      "Epoch 2/5\n",
      " - 0s - loss: 0.9681 - accuracy: 1.0000 - val_loss: 5.1479 - val_accuracy: 0.0000e+00\n",
      "Epoch 3/5\n",
      " - 0s - loss: 0.3555 - accuracy: 1.0000 - val_loss: 5.7705 - val_accuracy: 0.0000e+00\n",
      "Epoch 4/5\n",
      " - 0s - loss: 0.2623 - accuracy: 1.0000 - val_loss: 5.7128 - val_accuracy: 0.0000e+00\n",
      "Epoch 5/5\n",
      " - 0s - loss: 0.2427 - accuracy: 0.8889 - val_loss: 5.5196 - val_accuracy: 0.0000e+00\n"
     ]
    }
   ],
   "source": [
    "# -*- coding: utf-8 -*-\n",
    "\"\"\"\n",
    "Created on Sun Mar  1 12:06:06 2020\n",
    "\n",
    "@author: Naveen\n",
    "\"\"\"\n",
    "\n",
    "import gzip\n",
    "import os\n",
    "import numpy as np\n",
    "from keras.datasets import mnist\n",
    "#from selfTraining import selfTrainModel, fullModel\n",
    "from sklearn.metrics import confusion_matrix\n",
    "%run selfTraining.ipynb\n",
    "\n",
    "#os.chdir(r'C:\\Users\\Naveen\\Google Drive\\Heinz\\Coursework\\Semester 2\\Machine Learning\\Project')\n",
    "#z = gzip.open('./MNIST Data/train-images-idx3-ubyte.gz', 'r')\n",
    "#image_size = 28\n",
    "#num_images = 60000\n",
    "#buf = z.read(image_size * image_size * num_images)\n",
    "#data = np.frombuffer(buf, dtype=np.uint8).astype(np.float32)\n",
    "#xTrain = data.reshape(num_images, image_size, image_size)\n",
    "#xTrain = xTrain.reshape(60000, 784)\n",
    "#xTrain = xTrain/255.0\n",
    "#\n",
    "#z = gzip.open('./MNIST Data/train-labels-idx1-ubyte.gz','r')\n",
    "#buf = z.read(num_images)\n",
    "#yTrain = np.frombuffer(buf, dtype = np.uint8).astype(np.int32)\n",
    "#del(data)\n",
    "#del(z)\n",
    "#del(buf)\n",
    "(xTrain, yTrain), (xTest, yTest) = mnist.load_data()\n",
    "xTrain = xTrain.reshape(60000, 784)\n",
    "xTrain = xTrain/255.0\n",
    "xTest = xTest.reshape(10000, 784)\n",
    "xTest = xTest/255.0\n",
    "\n",
    "#xTrain = xTrain[0:5000, :]\n",
    "#yTrain = yTrain[0:5000]\n",
    "print(np.unique(yTrain, return_counts=True))\n",
    "\n",
    "batchSize = 32\n",
    "maxIter = 5\n",
    "pThresh = 0.95\n",
    "labeledSize = 100\n",
    "selectionType = \"Group\"\n",
    "\n",
    "labelSize = [10, 50, 100, 200]\n",
    "for size in labelSize:\n",
    "    output = selfTrainModel(xTrain, yTrain, batchSize, maxIter, pThresh, size, selectionType)\n",
    "    wrongLabels = output[1]\n",
    "    yHat = output[0].predict_classes(xTest, batch_size = batchSize)\n",
    "    cm = confusion_matrix(yTest, yHat)\n",
    "    accuracy = sum(np.diag(cm))/sum(sum(cm))\n",
    "    print(wrongLabels)\n",
    "    print(accuracy)\n",
    "    \n",
    "model = fullModel(xTrain, yTrain, batchSize)\n",
    "yHat = model.predict_classes(xTest, batch_size = batchSize)\n",
    "cm = confusion_matrix(yTest, yHat)\n",
    "accuracy = sum(np.diag(cm))/sum(sum(cm))\n",
    "print(accuracy)"
   ]
  },
  {
   "cell_type": "code",
   "execution_count": null,
   "metadata": {},
   "outputs": [],
   "source": []
  },
  {
   "cell_type": "code",
   "execution_count": null,
   "metadata": {},
   "outputs": [],
   "source": []
  },
  {
   "cell_type": "code",
   "execution_count": null,
   "metadata": {},
   "outputs": [],
   "source": []
  }
 ],
 "metadata": {
  "kernelspec": {
   "display_name": "Python 3",
   "language": "python",
   "name": "python3"
  },
  "language_info": {
   "codemirror_mode": {
    "name": "ipython",
    "version": 3
   },
   "file_extension": ".py",
   "mimetype": "text/x-python",
   "name": "python",
   "nbconvert_exporter": "python",
   "pygments_lexer": "ipython3",
   "version": "3.7.4"
  }
 },
 "nbformat": 4,
 "nbformat_minor": 2
}
